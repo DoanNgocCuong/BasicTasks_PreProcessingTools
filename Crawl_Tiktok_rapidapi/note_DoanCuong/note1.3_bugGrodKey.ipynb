{
 "cells": [
  {
   "cell_type": "markdown",
   "metadata": {},
   "source": [
    "```\n",
    "PS D:\\OneDrive - Hanoi University of Science and Technology\\GIT\\BasicTasks_PreProcessingTools\\Crawl_Tiktok\\tiktok2download> & C:/Users/User/AppData/Local/Microsoft/WindowsApps/python3.12.exe \"d:/OneDrive - Hanoi University of Science and Technology/GIT/BasicTasks_PreProcessingTools/Crawl_Tiktok/tiktok2download/def_video2Text_Grod.py\"\n",
    "\n",
    "=== .env file content ===\n",
    "TIKTOK_API_KEY=7f6474f637msha8c5b867a385d6ep1094f1jsnb175f9e06da2\n",
    "GROQ_API_KEY=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        \n",
    "\n",
    "=== Environment Variable ===\n",
    "Raw API key value: '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'\n",
    "API key length: 56\n",
    "Current file path: d:\\OneDrive - Hanoi University of Science and Technology\\GIT\\BasicTasks_PreProcessingTools\\Crawl_Tiktok\\tiktok2download\\def_video2Text_Grod.py\n",
    "Video path: d:\\OneDrive - Hanoi University of Science and Technology\\GIT\\BasicTasks_PreProcessingTools\\Crawl_Tiktok\\tiktok2download\\video_downloaded\\video_test.mp4\n",
    "Video file exists: True\n",
    "Traceback (most recent call last):\n",
    "  File \"d:\\OneDrive - Hanoi University of Science and Technology\\GIT\\BasicTasks_PreProcessingTools\\Crawl_Tiktok\\tiktok2download\\def_video2Text_Grod.py\", line 45, in <module>\n",
    "    transcription = client.audio.transcriptions.create(\n",
    "                    ^^^^^^^^^^^^^^^^^^^^^^^^^^^^^^^^^^^\n",
    "  File \"C:\\Users\\User\\AppData\\Local\\Packages\\PythonSoftwareFoundation.Python.3.12_qbz5n2kfra8p0\\LocalCache\\local-packages\\Python312\\site-packages\\groq\\resources\\audio\\transcriptions.py\", line 117, in create\n",
    "    return self._post(\n",
    "           ^^^^^^^^^^^\n",
    "  File \"C:\\Users\\User\\AppData\\Local\\Packages\\PythonSoftwareFoundation.Python.3.12_qbz5n2kfra8p0\\LocalCache\\local-packages\\Python312\\site-packages\\groq\\_base_client.py\", line 1194, in post\n",
    "    return cast(ResponseT, self.request(cast_to, opts, stream=stream, stream_cls=stream_cls))\n",
    "                           ^^^^^^^^^^^^^^^^^^^^^^^^^^^^^^^^^^^^^^^^^^^^^^^^^^^^^^^^^^^^^^^^^\n",
    "  File \"C:\\Users\\User\\AppData\\Local\\Packages\\PythonSoftwareFoundation.Python.3.12_qbz5n2kfra8p0\\LocalCache\\local-packages\\Python312\\site-packages\\groq\\_base_client.py\", line 896, in request\n",
    "    return self._request(\n",
    "           ^^^^^^^^^^^^^^\n",
    "  File \"C:\\Users\\User\\AppData\\Local\\Packages\\PythonSoftwareFoundation.Python.3.12_qbz5n2kfra8p0\\LocalCache\\local-packages\\Python312\\site-packages\\groq\\_base_client.py\", line 987, in _request\n",
    "    raise self._make_status_error_from_response(err.response) from None      \n",
    "groq.AuthenticationError: Error code: 401 - {'error': {'message': 'Invalid API Key', 'type': 'invalid_request_error', 'code': 'invalid_api_key'}}\n",
    "PS D:\\OneDrive - Hanoi University of Science and Technology\\GIT\\BasicTasks_PreProcessingTools\\Crawl_Tiktok\\tiktok2download>\n",
    "```"
   ]
  },
  {
   "cell_type": "code",
   "execution_count": null,
   "metadata": {},
   "outputs": [],
   "source": []
  }
 ],
 "metadata": {
  "language_info": {
   "name": "python"
  }
 },
 "nbformat": 4,
 "nbformat_minor": 2
}
