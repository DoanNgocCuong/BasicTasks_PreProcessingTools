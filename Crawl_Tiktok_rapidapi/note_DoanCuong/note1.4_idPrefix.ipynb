{
 "cells": [
  {
   "cell_type": "markdown",
   "metadata": {},
   "source": [
    "\n",
    "\n",
    "\n",
    "\n",
    "Khi video được lưu, tên file sẽ là:\n",
    "```\n",
    "moxierobot_7395372017270263071.mp4\n",
    "```\n",
    "\n",
    "Tức là:\n",
    "1. **Trong Excel**: `id7395372017270263071`\n",
    "2. **Sau khi xử lý**: `7395372017270263071`\n",
    "3. **Tên file video**: `moxierobot_7395372017270263071.mp4`\n",
    "\n",
    "Hãy xem code tạo tên file:\n",
    "```python\n",
    "# Extract username from URL\n",
    "username = video_url.split('@')[1].split('/')[0]  # Lấy \"moxierobot\"\n",
    "\n",
    "# Extract ID number (bỏ \"id\")\n",
    "video_id = extract_video_id(raw_video_id)  # \"7395372017270263071\"\n",
    "\n",
    "# Create filename\n",
    "filename = f\"{username}_{video_id}.mp4\"  # \"moxierobot_7395372017270263071.mp4\"\n",
    "\n",
    "# Full path\n",
    "video_path = video_folder / filename\n",
    "```\n",
    "\n",
    "Vậy:\n",
    "- Excel lưu với prefix \"id\" để tránh Excel tự động format số\n",
    "- Khi download, ta bỏ prefix \"id\" để lấy số ID thuần\n",
    "- File video được lưu với format: `username_ID.mp4`\n"
   ]
  },
  {
   "cell_type": "markdown",
   "metadata": {},
   "source": [
    "update 'id' cho @3_utils_AllVideoToTranscription1RoleGrod.py  đi chứ bro -)) lúc mà tìm để save vào ý "
   ]
  },
  {
   "cell_type": "markdown",
   "metadata": {},
   "source": [
    "Tôi sẽ giải thích cách xử lý ID qua 3 bước:\n",
    "\n",
    "1. **Bước 1 - Lưu vào Excel** (`1_utils_saveListVideosToExcel.py`):\n",
    "```python\n",
    "# Input từ API: \"7395372017270263071\"\n",
    "df['id'] = 'id' + df['id'].astype(str)\n",
    "# Kết quả trong Excel: \"id7395372017270263071\"\n",
    "```\n",
    "\n",
    "2. **Bước 2 - Download Video** (`2_utils_sheet2DowloadAllVideo.py`):\n",
    "```python\n",
    "# Đọc từ Excel: \"id7395372017270263071\"\n",
    "raw_video_id = str(row['Video ID'])\n",
    "# Bỏ chữ \"id\":\n",
    "video_id = extract_video_id(raw_video_id)  # \"7395372017270263071\"\n",
    "# Lưu file video: \"moxierobot_7395372017270263071.mp4\"\n",
    "```\n",
    "\n",
    "3. **Bước 3 - Transcribe** (`3_utils_AllVideoToTranscription1RoleGrod.py`):\n",
    "```python\n",
    "# Đọc tên file video: \"moxierobot_7395372017270263071.mp4\"\n",
    "video_id = extract_video_id(video_path.name)  # \"7395372017270263071\"\n",
    "# Thêm lại \"id\" để tìm trong Excel:\n",
    "excel_id = f\"id{video_id}\"  # \"id7395372017270263071\"\n",
    "# Tìm trong Excel và update transcription\n",
    "mask = df['Video ID'] == excel_id\n",
    "```\n",
    "\n",
    "Tóm tắt quy trình:\n",
    "1. Excel: Thêm \"id\" → `id7395372017270263071`\n",
    "2. Video: Bỏ \"id\" → `7395372017270263071`\n",
    "3. Transcribe: Thêm lại \"id\" để match với Excel\n"
   ]
  },
  {
   "cell_type": "code",
   "execution_count": null,
   "metadata": {},
   "outputs": [],
   "source": []
  }
 ],
 "metadata": {
  "language_info": {
   "name": "python"
  }
 },
 "nbformat": 4,
 "nbformat_minor": 2
}
