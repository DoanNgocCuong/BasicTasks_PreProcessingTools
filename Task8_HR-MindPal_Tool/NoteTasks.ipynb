{
 "cells": [
  {
   "cell_type": "markdown",
   "metadata": {},
   "source": [
    "https://deepgram.com/ai-apps "
   ]
  },
  {
   "cell_type": "markdown",
   "metadata": {},
   "source": [
    "https://mindpal.space/tool/chain-of-prompt-builder?ref=producthunt"
   ]
  },
  {
   "cell_type": "markdown",
   "metadata": {},
   "source": []
  },
  {
   "cell_type": "markdown",
   "metadata": {},
   "source": [
    "Zapier"
   ]
  },
  {
   "cell_type": "markdown",
   "metadata": {},
   "source": [
    "### Từ 1 số JD trên web: ### web: https://stepup.edu.vn/tuyen-dung/ \n",
    "=> lấy template của JD "
   ]
  },
  {
   "cell_type": "markdown",
   "metadata": {},
   "source": [
    "Dưới đây là template JD dành cho các vị trí tuyển dụng trong công ty Step Up mà bạn có thể điều chỉnh phù hợp với từng vị trí cụ thể:\n",
    "\n",
    "---\n",
    "\n",
    "### **[Vị trí Tuyển dụng]**\n",
    "(VD: React Native Developer, Product Marketer, Learning Design Specialist)\n",
    "\n",
    "---\n",
    "\n",
    "#### **1. Giới thiệu về công ty**\n",
    "\n",
    "Step Up là một trong những công ty tiên phong ở Việt Nam ứng dụng AI vào sản phẩm học ngoại ngữ. Với các sản phẩm giáo dục chất lượng như cuốn sách Hack Não và ứng dụng The Coach, Step Up đã giúp hàng triệu người học tiếng Anh một cách hiệu quả. Chúng tôi luôn tìm kiếm những tài năng mới, đồng hành cùng Step Up trong việc mang lại những trải nghiệm học tập tốt nhất cho khách hàng.\n",
    "\n",
    "---\n",
    "\n",
    "#### **2. Mô tả công việc**\n",
    "(Điền các nhiệm vụ chính của vị trí)\n",
    "\n",
    "- **Vai trò và trách nhiệm chính:**\n",
    "   - Phát triển sản phẩm hoặc tính năng mới theo yêu cầu.\n",
    "   - Làm việc trực tiếp với [Team Leader/PO/BA] để hiểu và triển khai dự án.\n",
    "   - Tối ưu hiệu suất sản phẩm.\n",
    "   - [Các nhiệm vụ khác liên quan đến vị trí].\n",
    "\n",
    "- **Nền tảng công nghệ:** (Nếu có yêu cầu cụ thể về nền tảng hoặc công nghệ, VD: React Native, Firebase, Redux, etc.)\n",
    "\n",
    "- **Thời gian làm việc:** 8h30 – 18h00, nghỉ trưa 1h30 phút, từ thứ 2 đến thứ 6 hàng tuần.\n",
    "\n",
    "---\n",
    "\n",
    "#### **3. Yêu cầu công việc**\n",
    "(Điền các yêu cầu công việc liên quan)\n",
    "\n",
    "- Tối thiểu [số năm] kinh nghiệm liên quan đến vị trí.\n",
    "- Thành thạo [công nghệ/kỹ năng cụ thể, VD: Redux Saga, Firebase, etc.].\n",
    "- Kỹ năng làm việc với [các công cụ hoặc nền tảng cụ thể].\n",
    "- Kinh nghiệm tối ưu hiệu suất ứng dụng hoặc sản phẩm.\n",
    "- [Các yêu cầu bổ sung như tư duy chiến lược, khả năng làm việc nhóm, kỹ năng giao tiếp, etc.]\n",
    "\n",
    "---\n",
    "\n",
    "#### **4. Quyền lợi**\n",
    "\n",
    "- **Lương cơ bản:** [Lương cơ bản + Gross/Net]\n",
    "- **Phúc lợi:** BHXH sau thử việc, nghỉ phép năm.\n",
    "- **Các phúc lợi khác:**\n",
    "   - Ăn trưa miễn phí tại công ty (suất ăn [số tiền]/ngày).\n",
    "   - Lương tháng 13, thưởng lễ, quỹ bonding.\n",
    "   - Học miễn phí các sản phẩm tiếng Anh của công ty.\n",
    "   - Cơ hội phát triển nghề nghiệp và thăng tiến nhanh chóng.\n",
    "\n",
    "---\n",
    "\n",
    "#### **5. Cách thức ứng tuyển**\n",
    "\n",
    "- Gửi CV về địa chỉ email: recruitment@stepup.edu.vn\n",
    "- Tiêu đề email: **[Vị trí tuyển dụng] _ Họ tên của bạn**\n",
    "- Liên hệ bộ phận tuyển dụng qua số điện thoại: Hotline: 0931323822 or Zalo 0397694640 (Ms. Hoàng Mơ)\n",
    "\n",
    "---\n",
    "\n",
    "#### **Quy trình tuyển dụng**\n",
    "\n",
    "- Vòng 1: Xét duyệt CV/Portfolio (1-3 ngày làm việc)\n",
    "- Vòng 2: Screen phone từ HR (10-15 phút)\n",
    "- Vòng 3: Phỏng vấn trực tiếp với bộ phận chuyên môn\n",
    "- Vòng 4: Coffee Talk với BOD (nếu cần)\n",
    "\n",
    "---\n",
    "\n",
    "Bạn có thể sử dụng template này để tùy chỉnh cho các vị trí khác nhau."
   ]
  },
  {
   "cell_type": "markdown",
   "metadata": {},
   "source": [
    "B1: Input về số lượng cần tuyển, vị trí cần tuyển, và JD cơ bản.\n",
    "B2: Research các bên khác, web, ... để xem thông tin về lương, yêu cầu, mức đãi ngộ, ... cho vị trí cần tuyển, và tối ưu JD đó cho hoàn thiện hơn. \n",
    "B3: Chỉnh sửa lại JD theo template. \n",
    "\n",
    "`----------`\n",
    "\n",
    "Gửi chị Mơ: chị Mơ xài tool cào thông tin mức lương các bên => So sánh\n"
   ]
  },
  {
   "cell_type": "markdown",
   "metadata": {},
   "source": [
    "Dưới đây là các link của các nền tảng tuyển dụng lớn nhất hiện nay hỏi: \n",
    "AskAI + Perlexity + GPT4: https://www.linkedin.com/feed/, https://www.vietnamworks.com/, https://careerviet.vn/vi, https://employers.glints.vn/, https://www.careerbuilder.vn/, https://glints.com/vn/, https://careers.smartosc.com/, https://topcv.vn/, https://vn.indeed.com/, https://www.jobstreet.vn/, https://timviec365.vn/, https://itviec.com/"
   ]
  },
  {
   "cell_type": "markdown",
   "metadata": {},
   "source": []
  }
 ],
 "metadata": {
  "language_info": {
   "name": "python"
  }
 },
 "nbformat": 4,
 "nbformat_minor": 2
}
