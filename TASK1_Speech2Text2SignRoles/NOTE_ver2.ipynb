{
 "cells": [
  {
   "cell_type": "markdown",
   "metadata": {},
   "source": [
    "Ver 2: \n",
    "\n",
    "- A thấy v1 thế cũng tạm ok rồi e nhé. A biết cách tối ưu tiếp, nhưng a muốn thông luồng trước.\n",
    " + E tìm hiểu đóng gói flow thành 1 API, input là link audio, output là json object để dựng đc thành 1 cuộc hội thoại nhé\n",
    "Input dạng: \n",
    "```\n",
    "curl -v --location \"http://\" ^\n",
    "    --header \"\" ^\n",
    "    --form \"\" ^\n",
    "    --form \"\" ^\n",
    "    --form \"file=@D:\\OneDrive - Hanoi University of Science and Technology\\ITE10-DS&AI-HUST\\Learn&Task\\Product_THECOACH\\TASK1_SPEECH2TEXT2SIGNROLES\\out-0966000394-1204-20240626-114630-1719377190.171536.mp3\"\n",
    "```\n",
    "\n",
    "\n",
    "UI cho sales dùng sẽ là:\n",
    " + Hàng ngày mình lấy các audios của sales trên 1 phút gọi.\n",
    " + Cho vào luồng e đã xử lý, trả về dạng đã phân vai vào buổi đêm.\n",
    " + Sales sẽ vào website để xem danh sách call, click để xem chi tiết theo UI conversation.\n",
    "- Cường biết call API Service, dựng Database,.. chưa e\n",
    "\n"
   ]
  },
  {
   "cell_type": "markdown",
   "metadata": {},
   "source": [
    "## 1. Đóng gói flow thành 1 API, input là link audio, output là json object để dựng 1 cuộc hội thoại. \n",
    "```\n",
    "API is running\n",
    "```\n",
    "\n",
    "cmd: \n",
    "\n",
    "```\n",
    "curl -X POST http://127.0.0.1:5000/process_audio_file -H \"Content-Type: multipart/form-data\" -F \"file=@D:\\OneDrive - Hanoi University of Science and Technology\\ITE10-DS&AI-HUST\\Learn&Task\\Product_THECOACH\\TASK1_Speech2Text2SignRoles\\out-0966000394-1204-20240626-114630-1719377190.171536.mp3\"\n",
    "```\n",
    "\n",
    "Bug: \n",
    "```\n",
    "Output hiển thị đẹp trên Terminal nhưng ở CMD lại ở dạng UNICODE \n",
    "=> Sử dụng `ensure_ascii=False` trong `json.dumps`: Điều này sẽ giữ nguyên các ký tự Unicode thay vì mã hóa chúng.\n",
    "và Thiết lập `sys.stdout.reconfigure` để hỗ trợ mã Unicode: Cách này áp dụng với Python 3.7 trở lên.\n",
    "```\n",
    "Output: \n",
    "```\n",
    "C:\\Users\\User>curl -X POST http://127.0.0.1:5000/process_audio_file -H \"Content-Type: multipart/form-data\" -F \"file=@D:\\OneDrive - Hanoi University of Science and Technology\\ITE10-DS&AI-HUST\\Learn&Task\\Product_THECOACH\\TASK1_Speech2Text2SignRoles\\out-0966000394-1204-20240626-114630-1719377190.171536.mp3\"\n",
    "{\"roles\": \"Nhân viên bán hàng: Hello, dạ em chào anh, em là trường BNAP The Coach em à. Thì có hẹn với mình ở liên hệ lại sau ấy à. Thế em có thấy là mình có bấm quan tâm về cái phần là chương trình học 1-1 của bên em đúng không anh?\\nKhách hàng: Ờ, đúng rồi.\\nNhân viên bán hàng: Vâng, về cái phần thông tin thì chắc là mình cũng có từng tham khảo qua về trên app đúng không ạ? Thì với cái chương trình gia sư 11 này của bên em nha.\\nKhách hàng: Mở rộng nhiều hơn để cải thiện cái phần câu từ mình nói chuyện với người đối diện bằng tiếng Anh anh nhé. Thì em biết đợt này khi mà anh đang quan tâm cái chương trình học tiếng Anh như này là anh đang muốn để hỗ trợ trực tiếp cho công việc luôn. Hay mình cũng chỉ đơn giản là luyện tập thêm thôi nhỉ?\\nKhách hàng: Alo à!\\nNhân viên bán hàng: Anh có thể nói rõ không ạ?\\nKhách hàng: ừ ừ, nãy giờ không nghe nói gì\\nNhân viên bán hàng: Dạ, dạ, đó tức là không biết đợt này anh đang quan tâm cái chương trình học tiếng Anh là mình đang muốn hỗ trợ giao tiếp trực tiếp cho công việc luôn. Hay mình cũng chỉ đơn giản là luyện tập thêm thôi nhỉ?\\nKhách hàng: Dạ và anh cải thiện nhiều hơn về cái phần kỹ năng nói của bản thân đúng không anh?\\nNhân viên bán hàng: Dạ vâng, thế thì tính ra một số nền tảng đi kiểu về tướng vượng này. Về phát âm thì không biết anh đã có sẵn nhiều chưa, hay mình cũng mong muốn có cái phần nào.\\nKhách hàng: Ở môi trường thì mình có thể bắt đầu lại từ đầu luôn hay nhỉ?\\nNhân viên bán hàng: mình cũng muốn bắt đầu từ đầu á\\nKhách hàng: Bắt đầu lại từ đầu để mình nắm vững đến nền tảng của bản thân đúng không ạ?\\nNhân viên bán hàng: Đó thì với cái phần mục tiêu hiện tại của mình như kiểu để luyện tập thêm cải thiện nhiều hơn với giao tiếp\\nKhách hàng: Thế anh có đặt ra một khoảng thời gian cụ thể nào để mình cải thiện không? Hay anh đang mong muốn là sớm nhất có thể anh nhỉ?\\nNhân viên bán hàng: Dạ vâng đó bởi vì thật ra với cái chương trình học của bên em đó hình như anh có xem qua thì anh sẽ thấy nha. Và cái chương trình học gia sư 11 của em sẽ giúp cho anh một cái chương trình học cá nhân hóa được may đo riêng cho từng học viên. Đó là cái phương pháp bên em cũng sẽ hỗ trợ mình theo cái phương pháp nạp cụm chân kinh. Tập trung danh giao tiếp và mình sẽ nói ngay sau 2 buổi học nha.\\nKhách hàng: ừ ừ\\nNhân viên bán hàng: Vậy thì chắc là mình giao tiếp đời sống thường ngày thôi đúng không anh?\\nKhách hàng: Chào tạm biệt. Cảm ơn.\\nNhân viên bán hàng: Dạ vâng, dạ vâng. Thì với cái phần chủ đề đời sống thì với mental bên em thì sẽ hỗ trợ mình cực kỳ tối ưu luôn. Đó thì anh muốn là mình trao đổi với mentor về chủ đề gì, anh cứ trao đổi trực tiếp với mentor nha. \", \"success\": true}\n",
    "```\n"
   ]
  },
  {
   "cell_type": "markdown",
   "metadata": {},
   "source": [
    "## 2. \n",
    "\n",
    "UI cho sales dùng sẽ là:\n",
    " + Hàng ngày mình lấy các audios của sales trên 1 phút gọi.\n",
    " + Cho vào luồng e đã xử lý, trả về dạng đã phân vai vào buổi đêm.\n",
    " + Sales sẽ vào website để xem danh sách call, click để xem chi tiết theo UI conversation.\n",
    "- Cường biết call API Service, dựng Database,.. chưa e\n",
    "\n",
    "Mình cần làm: \n",
    "1. Đóng gói thành luồng API - 2 ae phối hợp update Prompt để phân vai chuẩn. \n",
    "2. Đánh giá được ĐỘ CHÍNH XÁC BAO NHIÊU PHẦN TRĂM. \n"
   ]
  },
  {
   "cell_type": "markdown",
   "metadata": {},
   "source": [
    "curl: \n",
    "\n",
    "```\n",
    "curl -L -X POST 'http://103.253.20.13:25024/role_assign' ^\n",
    "-F 'audio=@\"D:\\\\OneDrive - Hanoi University of Science and Technology\\\\ITE10-DS&AI-HUST\\\\Learn&Task\\\\Product_THECOACH\\\\TASK1_Speech2Text2SignRoles\\\\out-0966000394-1204-20240626-114630-1719377190.171536.mp3\"' ^\n",
    "-F 'secret_key=\"YB%dsf;l#@#@DSX453aavbgty4\"'\n",
    "```\n",
    "\n",
    "Bug: \n",
    "\n",
    "```\n",
    "C:\\Users\\User>curl -L -X POST 'http://103.253.20.13:25024/role_assign' ^\n",
    "More? -F 'audio=@\"D:\\\\OneDrive - Hanoi University of Science and Technology\\\\ITE10-DS&AI-HUST\\\\Learn&Task\\\\Product_THECOACH\\\\TASK1_Speech2Text2SignRoles\\\\out-0966000394-1204-20240626-114630-1719377190.171536.mp3\"' ^\n",
    "More? -F 'secret_key=\"YB%dsf;l#@#@DSX453aavbgty4\"'\n",
    "Warning: skip unknown form field: l#@#@DSX453aavbgty4'\n",
    "curl: (26) Failed to open/read local data from file/application\n",
    "```\n",
    "\n",
    "Sửa: \n",
    "```\n",
    "curl -L -X POST \"http://103.253.20.13:25024/role_assign\" ^\n",
    "-F \"audio=@D:\\\\OneDrive - Hanoi University of Science and Technology\\\\ITE10-DS&AI-HUST\\\\Learn&Task\\\\Product_THECOACH\\\\TASK1_Speech2Text2SignRoles\\\\out-0966000394-1204-20240626-114630-1719377190.171536.mp3\" ^\n",
    "-F \"secret_key=codedongian\"\n",
    "```\n"
   ]
  },
  {
   "cell_type": "markdown",
   "metadata": {},
   "source": [
    "Trước khi Code:\n",
    "\n",
    "1. \n"
   ]
  }
 ],
 "metadata": {
  "language_info": {
   "name": "python"
  }
 },
 "nbformat": 4,
 "nbformat_minor": 2
}
