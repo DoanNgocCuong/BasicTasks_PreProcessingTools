{
 "cells": [
  {
   "cell_type": "code",
   "execution_count": 4,
   "metadata": {},
   "outputs": [
    {
     "name": "stdout",
     "output_type": "stream",
     "text": [
      "Updated record for username: quynhanhthipham25.11\n"
     ]
    }
   ],
   "source": [
    "import requests\n",
    "import airtable\n",
    "import datetime\n",
    "\n",
    "# Airtable setup\n",
    "AIRTABLE_BASE_ID = 'app7mcJMf9O8GQRal'\n",
    "AIRTABLE_API_KEY = ''\n",
    "TABLE_NAME = 'tiktok_user'\n",
    "VIEW_NAME = '0_no_info'\n",
    "\n",
    "# Tiktok key\n",
    "x-rapidapi-key = \"\"\n",
    "\n",
    "# TikTok API setup\n",
    "TIKTOK_API_URL = \"https://tiktok-api23.p.rapidapi.com/api/user/info\"\n",
    "HEADERS = {\n",
    "    \"x-rapidapi-key\": x-rapidapi-key,\n",
    "    \"x-rapidapi-host\": \"tiktok-api23.p.rapidapi.com\"\n",
    "}\n",
    "\n",
    "def get_airtable_data():\n",
    "    at = airtable.Airtable(AIRTABLE_BASE_ID, TABLE_NAME, api_key=AIRTABLE_API_KEY)\n",
    "    records = at.get_all(view=VIEW_NAME)\n",
    "    return records\n",
    "\n",
    "def update_airtable_record(record_id, data):\n",
    "    at = airtable.Airtable(AIRTABLE_BASE_ID, TABLE_NAME, api_key=AIRTABLE_API_KEY)\n",
    "    at.update(record_id, data)\n",
    "\n",
    "def get_tiktok_user_info(username):\n",
    "    querystring = {\"uniqueId\": username}\n",
    "    response = requests.get(TIKTOK_API_URL, headers=HEADERS, params=querystring)\n",
    "    return response.json()\n",
    "\n",
    "def transform_timestamp_to_datetime(timestamp):\n",
    "    return datetime.datetime.fromtimestamp(timestamp).strftime('%Y-%m-%d %H:%M:%S')\n",
    "\n",
    "def main():\n",
    "    airtable_records = get_airtable_data()\n",
    "    \n",
    "    for record in airtable_records:\n",
    "        username = record['fields'].get('username')\n",
    "        if username:\n",
    "            # Get TikTok user info\n",
    "            user_info_response = get_tiktok_user_info(username)\n",
    "            user_info = user_info_response.get('userInfo', {}).get('user', {})\n",
    "            stats_info = user_info_response.get('userInfo', {}).get('stats', {})\n",
    "            \n",
    "            if user_info:\n",
    "                # Prepare data to be updated\n",
    "                data = {\n",
    "                    'id': user_info.get('id', ''),\n",
    "                    'nickname': user_info.get('nickname', ''),\n",
    "                    'secUid': user_info.get('secUid', ''),\n",
    "                    'avatarLarger': user_info.get('avatarLarger', ''),\n",
    "                    'createTime': transform_timestamp_to_datetime(user_info.get('createTime', 0)),\n",
    "                    'verified': str(user_info.get('verified', False)),\n",
    "                    'bioLink_link': user_info.get('bioLink', {}).get('link', ''),\n",
    "                    'followerCount': stats_info.get('followerCount', 0),\n",
    "                    'followingCount': stats_info.get('followingCount', 0),\n",
    "                    'heart': stats_info.get('heart', 0),\n",
    "                    'heartCount': stats_info.get('heartCount', 0),\n",
    "                    'videoCount': stats_info.get('videoCount', 0),\n",
    "                    'diggCount': stats_info.get('diggCount', 0)\n",
    "                }\n",
    "                \n",
    "                # Update Airtable record\n",
    "                update_airtable_record(record['id'], data)\n",
    "                print(f\"Updated record for username: {username}\")\n",
    "\n",
    "if __name__ == \"__main__\":\n",
    "    main()\n"
   ]
  },
  {
   "cell_type": "code",
   "execution_count": null,
   "metadata": {},
   "outputs": [],
   "source": []
  }
 ],
 "metadata": {
  "kernelspec": {
   "display_name": "Python 3",
   "language": "python",
   "name": "python3"
  },
  "language_info": {
   "codemirror_mode": {
    "name": "ipython",
    "version": 3
   },
   "file_extension": ".py",
   "mimetype": "text/x-python",
   "name": "python",
   "nbconvert_exporter": "python",
   "pygments_lexer": "ipython3",
   "version": "3.8.5"
  }
 },
 "nbformat": 4,
 "nbformat_minor": 4
}
