{
 "cells": [
  {
   "cell_type": "markdown",
   "metadata": {},
   "source": [
    "# Tinh chỉnh việc: \n",
    "- Output file sẽ tự động check .mp3 nếu ko có thì nó thêm \n",
    "- Output file được đặt theo tên mình nhập, theo text nếu text có .mp3 và theo index hàng -1 "
   ]
  },
  {
   "cell_type": "markdown",
   "metadata": {},
   "source": [
    "# Set tham số"
   ]
  },
  {
   "cell_type": "markdown",
   "metadata": {},
   "source": [
    "Tôi sẽ chỉnh sửa hàm `process_excel_to_audio` để thêm tham số giới hạn số dòng và cập nhật phần main:\n",
    "\n",
    "```python:idea3/app_workflow_v3_useExcel.py\n",
    "def process_excel_to_audio(excel_file, sheet_name=\"Sheet1\", default_voice=\"en-AU-NatashaNeural\", limit_rows=None):\n",
    "    \"\"\"\n",
    "    Process each row in Excel file to create audio files\n",
    "    limit_rows: Number of rows to process (None for all rows)\n",
    "    \"\"\"\n",
    "    try:\n",
    "        # Read Excel file\n",
    "        df = pd.read_excel(excel_file, sheet_name=sheet_name)\n",
    "        \n",
    "        # Limit rows if specified\n",
    "        if limit_rows:\n",
    "            df = df.head(limit_rows)\n",
    "            print(f\"Processing first {limit_rows} rows only\")\n",
    "        \n",
    "        # ... rest of the existing function code ...\n",
    "\n",
    "# Update main section\n",
    "if __name__ == \"__main__\":\n",
    "    script_dir = os.path.dirname(os.path.abspath(__file__))\n",
    "    excel_file = os.path.join(script_dir, \"SCRIPTS_idea3.xlsx\")\n",
    "    \n",
    "    # Specify number of rows to process\n",
    "    rows_to_process = 5  # Process first 5 rows\n",
    "    \n",
    "    print(f\"Input Excel: {excel_file}\")\n",
    "    print(f\"Processing first {rows_to_process} rows\")\n",
    "    \n",
    "    excel_dir = os.path.dirname(os.path.abspath(excel_file))\n",
    "    excel_name = os.path.splitext(os.path.basename(excel_file))[0]\n",
    "    final_output = os.path.join(excel_dir, f\"{excel_name}_final_5rows.mp3\")\n",
    "    \n",
    "    print(f\"Output will be saved to: {final_output}\")\n",
    "    \n",
    "    print(\"\\nStarting audio generation...\")\n",
    "    created_files = process_excel_to_audio(excel_file, limit_rows=rows_to_process)\n",
    "    \n",
    "    # ... rest of the main code ...\n",
    "```\n",
    "\n",
    "Bây giờ bạn có thể:\n",
    "1. Chạy file bình thường sẽ xử lý 5 dòng đầu tiên\n",
    "2. Hoặc có thể thay đổi số dòng bằng cách sửa giá trị `rows_to_process`\n",
    "3. Output file sẽ có tên kết thúc bằng \"_5rows.mp3\" để dễ phân biệt\n",
    "\n",
    "Nếu muốn linh hoạt hơn, bạn có thể thêm argument parser để chỉ định số dòng khi chạy từ command line:\n",
    "\n",
    "```python:idea3/app_workflow_v3_useExcel.py\n",
    "if __name__ == \"__main__\":\n",
    "    import argparse\n",
    "    \n",
    "    parser = argparse.ArgumentParser()\n",
    "    parser.add_argument(\"--rows\", type=int, default=None, help=\"Number of rows to process\")\n",
    "    args = parser.parse_args()\n",
    "    \n",
    "    script_dir = os.path.dirname(os.path.abspath(__file__))\n",
    "    excel_file = os.path.join(script_dir, \"SCRIPTS_idea3.xlsx\")\n",
    "    \n",
    "    rows_to_process = args.rows\n",
    "    suffix = f\"_{rows_to_process}rows\" if rows_to_process else \"full\"\n",
    "    \n",
    "    excel_dir = os.path.dirname(os.path.abspath(excel_file))\n",
    "    excel_name = os.path.splitext(os.path.basename(excel_file))[0]\n",
    "    final_output = os.path.join(excel_dir, f\"{excel_name}_final_{suffix}.mp3\")\n",
    "    \n",
    "    created_files = process_excel_to_audio(excel_file, limit_rows=rows_to_process)\n",
    "    # ... rest of the code ...\n",
    "```\n",
    "\n",
    "Sau đó bạn có thể chạy bằng command line:\n",
    "- Chạy 5 dòng: `python app_workflow_v3_useExcel.py --rows 5`\n",
    "- Chạy toàn bộ: `python app_workflow_v3_useExcel.py`"
   ]
  },
  {
   "cell_type": "code",
   "execution_count": null,
   "metadata": {},
   "outputs": [],
   "source": []
  }
 ],
 "metadata": {
  "language_info": {
   "name": "python"
  }
 },
 "nbformat": 4,
 "nbformat_minor": 2
}
