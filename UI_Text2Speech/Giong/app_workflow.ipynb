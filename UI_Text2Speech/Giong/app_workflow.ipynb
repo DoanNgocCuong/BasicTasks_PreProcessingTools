{
 "cells": [
  {
   "cell_type": "markdown",
   "metadata": {},
   "source": []
  },
  {
   "cell_type": "markdown",
   "metadata": {},
   "source": [
    "\n",
    "Những thay đổi chính:\n",
    "\n",
    "1. Tạo và quản lý thư mục temp:\n",
    "```python\n",
    "TEMP_DIR = os.path.join(SCRIPT_DIR, \"temp\")\n",
    "if not os.path.exists(TEMP_DIR):\n",
    "    os.makedirs(TEMP_DIR)\n",
    "```\n",
    "\n",
    "2. Lưu các file tạm từ text_to_speech vào thư mục temp:\n",
    "```python\n",
    "output_path = os.path.join(TEMP_DIR, output_file)\n",
    "```\n",
    "\n",
    "3. Trong hàm merge_audio_files:\n",
    "- File đầu ra cuối cùng được lưu vào thư mục gốc (SCRIPT_DIR)\n",
    "- Đối với các file input:\n",
    "  + Nếu là file mới tạo: tìm trong thư mục temp\n",
    "  + Nếu là file resource có sẵn: tìm trong thư mục gốc\n",
    "- Xóa các file tạm trong thư mục temp sau khi merge xong\n",
    "- Xóa thư mục temp nếu nó trống\n",
    "\n",
    "Bây giờ:\n",
    "- Tất cả file tạm thời sẽ được lưu trong folder temp\n",
    "- Các file resource (silent_5sec.mp3, interview_background_5sec.mp3) vẫn ở thư mục gốc\n",
    "- File output cuối cùng sẽ được lưu ở thư mục gốc\n",
    "- Thư mục temp và các file trong đó sẽ được dọn dẹp sau khi hoàn thành\n",
    "\n",
    "Bạn thấy cách tổ chức này có ổn không?"
   ]
  },
  {
   "cell_type": "code",
   "execution_count": null,
   "metadata": {},
   "outputs": [],
   "source": []
  }
 ],
 "metadata": {
  "language_info": {
   "name": "python"
  }
 },
 "nbformat": 4,
 "nbformat_minor": 2
}
