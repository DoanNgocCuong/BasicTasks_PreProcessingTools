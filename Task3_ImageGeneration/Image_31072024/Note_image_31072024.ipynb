{
 "cells": [
  {
   "cell_type": "markdown",
   "metadata": {},
   "source": [
    "## 1. Version Cũ "
   ]
  },
  {
   "cell_type": "markdown",
   "metadata": {},
   "source": [
    "Mô hình cũ: Context => Prompt for Stable Diffusion \n",
    "\n",
    "Link: https://platform.openai.com/playground/p/Nvg1hssBW8dzXfnS46hx6Pp8?model=undefined&mode=chat\n",
    "\n",
    "***SYSTEM prompt***\n",
    "\n",
    "```\n",
    "You are an expert image prompter, follow midjourney prompt guidedance. From a story, create a image prompt to describe that story in flat illustration style.\n",
    "\n",
    "\n",
    "Prompt template: high quality, color block, 4k, simple detail, simple background, (flat illustration:1.2), no lines, (vector illustration:1.3), adobe illustration, [description prompt part], (simple color:1.4), (flat style:1.4),(flat illustration style:1.4), <lora:Flat_Corporate_Style:1>, <lora:Fresh Ideas@pixar style_SDXL.safetensors:0.7>, <lora:Flat style:1.4> Flat style\n",
    "\n",
    "\n",
    "Some prompt examples:\n",
    "1. high quality, color block, 4k, simple detail, simple background, (flat illustration:1.2), no lines, (vector illustration:1.3), adobe illustration, man, do the housework, (simple color:1.4), (flat style:1.4),(flat illustration style:1.4), <lora:Flat_Corporate_Style:1>, <lora:Fresh Ideas@pixar style_SDXL.safetensors:0.7>, <lora:Flat style:1.4> Flat style\n",
    "```"
   ]
  },
  {
   "cell_type": "markdown",
   "metadata": {},
   "source": [
    "## 2. New Style "
   ]
  },
  {
   "cell_type": "markdown",
   "metadata": {},
   "source": [
    "### Try find new style"
   ]
  },
  {
   "cell_type": "markdown",
   "metadata": {},
   "source": [
    "1. Image to Prompt (Từ Image PO cung cấp => gen lấy prompt)\n",
    "https://imagetoprompt.com/tools/i2p/61e158ef-2fe1-4930-8813-2296c7e9b45c\n",
    "\n",
    "```\n",
    "a cartoon of a man and a woman in an apron talking to each other, commercial illustration, flat illustration, animation still, corporate animation style, wikihow illustration, cozy cafe background, quality illustration, 2d animation, 2 d animation, aussie baristas, proffesional illustration, cartoon still, digital 2d animation, coffee shop, cg animation, couple, a painting of two people, animated still, illustrations, cartoon illustration\n",
    "```\n",
    "\n",
    "\n",
    "2. BỔ SUNG IMAGE TO PROMPT vào prompt cũ để tạo prompt mới, đồng thời truyền image style input vào để tạo flow\n",
    "\n",
    "- New Positive: \n",
    "    ```\n",
    "    commercial illustration, flat illustration, animation still, corporate animation style, wikihow illustration, quality illustration, 2d animation, professional illustration, cartoon still, digital 2d animation, cg animation, animated still, illustrations, cartoon illustration, high quality, color block, 4k, simple detail, simple background, (flat illustration:1.2), no lines, (vector illustration:1.3), adobe illustration, FOCUS ON 2 people: Sam and Taylor, focus on their friendly interaction, 2-3 other people in the class meeting atmosphere, no laptop in image, (simple color:1.4), (flat style:1.4),(flat illustration style:1.4), <lora:Flat_Corporate_Style:1>, <lora:Fresh Ideas@pixar style_SDXL.safetensors:0.7>, <lora:Flat style:1.4> Flat style\n",
    "    ```\n",
    "\n",
    "\n",
    "- Old Negative bị dính lỗi tay chân\n",
    "    ```\n",
    "    detailed, deformed, low quality, intricate, realistic, photo, \n",
    "    ```\n",
    "\n",
    "=> New Negative để sửa lỗi tay chân\n",
    "    ```\n",
    "    detailed, deformed, low quality, intricate, realistic, photo, \n",
    "    deformed hands, extra fingers, fused fingers, missing fingers, extra limbs, deformed feet, extra toes, missing toes, malformed limbs, disproportionate limbs, distorted anatomy, anatomical errors\n",
    "    ```\n",
    "- Thêm Input Image "
   ]
  },
  {
   "cell_type": "markdown",
   "metadata": {},
   "source": [
    "### Package with SYSTEM prompt - Background"
   ]
  },
  {
   "cell_type": "markdown",
   "metadata": {},
   "source": [
    "AI gen prompt from text: \n",
    "\n",
    "- SYSTEM Prompt: \n",
    "```\n",
    "You are an expert image prompter, follow midjourney prompt guidedance. From a story <user input>, Create a image prompt to describe that story in flat illustration style.\n",
    "\n",
    "\n",
    "Prompt template: commercial illustration, flat illustration, animation still, corporate animation style, wikihow illustration, quality illustration, 2d animation, 2 d animation, professional illustration, cartoon still, digital 2d animation, cg animation, animated still, illustrations, cartoon illustration, high quality, color block, 4k, simple detail, simple background, (flat illustration:1.2), no lines, (vector illustration:1.3), adobe illustration,  [description prompt part], (simple color:1.4), (flat style:1.4),(flat illustration style:1.4), <lora:Flat_Corporate_Style:1>, <lora:Fresh Ideas@pixar style_SDXL.safetensors:0.7>, <lora:Flat style:1.4> Flat style \n",
    "\n",
    "\n",
    "Some prompt examples:\n",
    "1. commercial illustration, flat illustration, animation still, corporate animation style, wikihow illustration, quality illustration, 2d animation, professional illustration, cartoon still, digital 2d animation, cg animation, animated still, illustrations, cartoon illustration, high quality, color block, 4k, simple detail, simple background, (flat illustration:1.2), no lines, (vector illustration:1.3), adobe illustration, Sam and Taylor catching up during a class reunion, both smiling and engaged in conversation, a few classmates in the background, simple and minimalist scene, focus on their friendly interaction, (simple color:1.4), (flat style:1.4),(flat illustration style:1.4), <lora:Flat_Corporate_Style:1>, <lora:Fresh Ideas@pixar style_SDXL.safetensors:0.7>, <lora:Flat style:1.4> Flat style\n",
    "```\n"
   ]
  },
  {
   "cell_type": "markdown",
   "metadata": {},
   "source": [
    "### mở rộng: New style 2 phrases: \n",
    "Link: https://platform.openai.com/playground/p/HBsW5vcULMuTTyxfRubE1jw9?model=undefined&mode=chat"
   ]
  },
  {
   "cell_type": "markdown",
   "metadata": {},
   "source": [
    "SYSTEM PROMPT \n",
    "```\n",
    "You are an expert image prompter, follow midjourney prompt guidedance. \n",
    "You will create 2 image prompt to describe MAKE IT HIGHLIGHT TO CLEARLY DISTINGUISH THE 2 Phrases FROM EACH OTHER, from <input_text> . (Input_text have format: `phrase1` --- `phrase2`)\n",
    "///{input_text}///\n",
    "\n",
    "Prompt template: commercial illustration, flat illustration, animation still, corporate animation style, wikihow illustration, quality illustration, 2d animation, 2 d animation, professional illustration, cartoon still, digital 2d animation, cg animation, animated still, illustrations, cartoon illustration, high quality, color block, 4k, simple detail, simple background, (flat illustration:1.2), no lines, (vector illustration:1.3), adobe illustration,  [description prompt part], (simple color:1.4), (flat style:1.4),(flat illustration style:1.4), <lora:Flat_Corporate_Style:1>, <lora:Fresh Ideas@pixar style_SDXL.safetensors:0.7>, <lora:Flat style:1.4> Flat style \n",
    "\n",
    "\n",
    "Examples:\n",
    "\n",
    "**Prompt 1: Have a high-paying job**\n",
    "commercial illustration, flat illustration, animation still, corporate animation style, wikihow illustration, quality illustration, 2d animation, 2 d animation, professional illustration, cartoon still, digital 2d animation, cg animation, animated still, illustrations, cartoon illustration, high quality, color block, 4k, simple detail, simple background, (flat illustration:1.2), no lines, (vector illustration:1.3), adobe illustration, a person in a business suit sitting at a desk with stacks of money and gold coins around them, a large window showing a cityscape in the background, the person looking happy and confident, (simple color:1.4), (flat style:1.4),(flat illustration style:1.4), <lora:Flat_Corporate_Style:1>, <lora:Fresh Ideas@pixar style_SDXL.safetensors:0.7>, <lora:Flat style:1.4> Flat style\n",
    "\n",
    "**Prompt 2: Stressful job**\n",
    "commercial illustration, flat illustration, animation still, corporate animation style, wikihow illustration, quality illustration, 2d animation, 2 d animation, professional illustration, cartoon still, digital 2d animation, cg animation, animated still, illustrations, cartoon illustration, high quality, color block, 4k, simple detail, simple background, (flat illustration:1.2), no lines, (vector illustration:1.3), adobe illustration, a person in a business suit sitting at a cluttered desk with piles of paperwork, a clock showing late hours, the person holding their head in frustration, dark circles under their eyes, (simple color:1.4), (flat style:1.4),(flat illustration style:1.4), <lora:Flat_Corporate_Style:1>, <lora:Fresh Ideas@pixar style_SDXL.safetensors:0.7>, <lora:Flat style:1.4> Flat style\n",
    "\n",
    "\n",
    "```"
   ]
  },
  {
   "cell_type": "markdown",
   "metadata": {},
   "source": [
    "Examples: \n",
    "\n",
    "\n",
    "**Prompt 1: Have a high-paying job**\n",
    "commercial illustration, flat illustration, animation still, corporate animation style, wikihow illustration, quality illustration, 2d animation, 2 d animation, professional illustration, cartoon still, digital 2d animation, cg animation, animated still, illustrations, cartoon illustration, high quality, color block, 4k, simple detail, simple background, (flat illustration:1.2), no lines, (vector illustration:1.3), adobe illustration, a person in a business suit sitting at a desk with stacks of money and gold coins around them, a large window showing a cityscape in the background, the person looking happy and confident, (simple color:1.4), (flat style:1.4),(flat illustration style:1.4), <lora:Flat_Corporate_Style:1>, <lora:Fresh Ideas@pixar style_SDXL.safetensors:0.7>, <lora:Flat style:1.4> Flat style\n",
    "\n",
    "**Prompt 2: Stressful job**\n",
    "commercial illustration, flat illustration, animation still, corporate animation style, wikihow illustration, quality illustration, 2d animation, 2 d animation, professional illustration, cartoon still, digital 2d animation, cg animation, animated still, illustrations, cartoon illustration, high quality, color block, 4k, simple detail, simple background, (flat illustration:1.2), no lines, (vector illustration:1.3), adobe illustration, a person in a business suit sitting at a cluttered desk with piles of paperwork, a clock showing late hours, the person holding their head in frustration, dark circles under their eyes, (simple color:1.4), (flat style:1.4),(flat illustration style:1.4), <lora:Flat_Corporate_Style:1>, <lora:Fresh Ideas@pixar style_SDXL.safetensors:0.7>, <lora:Flat style:1.4> Flat style\n",
    "\n",
    "\n",
    "\n",
    "\n",
    "**Prompt 1: I want to**\n",
    "commercial illustration, flat illustration, animation still, corporate animation style, wikihow illustration, quality illustration, 2d animation, 2 d animation, professional illustration, cartoon still, digital 2d animation, cg animation, animated still, illustrations, cartoon illustration, high quality, color block, 4k, simple detail, simple background, (flat illustration:1.2), no lines, (vector illustration:1.3), adobe illustration, a person standing confidently with a checklist in hand, ticking off goals and dreams, a bright and optimistic background with sun rays, the person smiling and looking forward, (simple color:1.4), (flat style:1.4),(flat illustration style:1.4), <lora:Flat_Corporate_Style:1>, <lora:Fresh Ideas@pixar style_SDXL.safetensors:0.7>, <lora:Flat style:1.4> Flat style\n",
    "\n",
    "**Prompt 2: I don't want to**\n",
    "commercial illustration, flat illustration, animation still, corporate animation style, wikihow illustration, quality illustration, 2d animation, 2 d animation, professional illustration, cartoon still, digital 2d animation, cg animation, animated still, illustrations, cartoon illustration, high quality, color block, 4k, simple detail, simple background, (flat illustration:1.2), no lines, (vector illustration:1.3), adobe illustration, a person standing with arms crossed and a frown, a list of tasks or obligations behind them with red crosses, a dull and muted background, the person looking reluctant and hesitant, (simple color:1.4), (flat style:1.4),(flat illustration style:1.4), <lora:Flat_Corporate_Style:1>, <lora:Fresh Ideas@pixar style_SDXL.safetensors:0.7>, <lora:Flat style:1.4> Flat style\n",
    "\n",
    "\n",
    "**Prompt 1: We can**\n",
    "commercial illustration, flat illustration, animation still, corporate animation style, wikihow illustration, quality illustration, 2d animation, 2 d animation, professional illustration, cartoon still, digital 2d animation, cg animation, animated still, illustrations, cartoon illustration, high quality, color block, 4k, simple detail, simple background, (flat illustration:1.2), no lines, (vector illustration:1.3), adobe illustration, a diverse group of people standing together with their arms raised in triumph, a bright and sunny background with a rainbow, everyone smiling and looking confident, (simple color:1.4), (flat style:1.4),(flat illustration style:1.4), <lora:Flat_Corporate_Style:1>, <lora:Fresh Ideas@pixar style_SDXL.safetensors:0.7>, <lora:Flat style:1.4> Flat style\n",
    "\n",
    "**Prompt 2: We can't**\n",
    "commercial illustration, flat illustration, animation still, corporate animation style, wikihow illustration, quality illustration, 2d animation, 2 d animation, professional illustration, cartoon still, digital 2d animation, cg animation, animated still, illustrations, cartoon illustration, high quality, color block, 4k, simple detail, simple background, (flat illustration:1.2), no lines, (vector illustration:1.3), adobe illustration, a group of people looking dejected and sitting on the ground, a dark and cloudy background with rain, everyone looking sad and defeated, (simple color:1.4), (flat style:1.4),(flat illustration style:1.4), <lora:Flat_Corporate_Style:1>, <lora:Fresh Ideas@pixar style_SDXL.safetensors:0.7>, <lora:Flat style:1.4> Flat style\n",
    "\n",
    "**Prompt 1: They sell souvenirs**\n",
    "commercial illustration, flat illustration, animation still, corporate animation style, wikihow illustration, quality illustration, 2d animation, 2 d animation, professional illustration, cartoon still, digital 2d animation, cg animation, animated still, illustrations, cartoon illustration, high quality, color block, 4k, simple detail, simple background, (flat illustration:1.2), no lines, (vector illustration:1.3), adobe illustration, a cheerful shopkeeper standing behind a counter filled with various souvenirs like keychains, postcards, and miniature landmarks, colorful shelves in the background displaying more souvenirs, (simple color:1.4), (flat style:1.4),(flat illustration style:1.4), <lora:Flat_Corporate_Style:1>, <lora:Fresh Ideas@pixar style_SDXL.safetensors:0.7>, <lora:Flat style:1.4> Flat style\n",
    "\n",
    "**Prompt 2: They sell food**\n",
    "commercial illustration, flat illustration, animation still, corporate animation style, wikihow illustration, quality illustration, 2d animation, 2 d animation, professional illustration, cartoon still, digital 2d animation, cg animation, animated still, illustrations, cartoon illustration, high quality, color block, 4k, simple detail, simple background, (flat illustration:1.2), no lines, (vector illustration:1.3), adobe illustration, a friendly vendor standing behind a food stall with various dishes like sandwiches, fruits, and drinks, a menu board in the background, the vendor smiling and serving a customer, (simple color:1.4), (flat style:1.4),(flat illustration style:1.4), <lora:Flat_Corporate_Style:1>, <lora:Fresh Ideas@pixar style_SDXL.safetensors:0.7>, <lora:Flat style:1.4> Flat style"
   ]
  },
  {
   "cell_type": "markdown",
   "metadata": {},
   "source": [
    "Feedback:\n",
    "- Ver 1: [XÁC ĐỊNH TƯ DUY 10 ĐIỂM NGAY TỪ ĐẦU - THAY VÌ TƯ DUY LÀM LƯỚT] => Ver 1: Nhanh có thể tầm 7-8/10 điểm để NHANH DEMO => NHANH NHẬN FEEDBACK <<như X3 nhanh nhanh nhanh 4 ver đầu trong 1 tháng>>"
   ]
  },
  {
   "cell_type": "markdown",
   "metadata": {},
   "source": [
    " "
   ]
  },
  {
   "cell_type": "markdown",
   "metadata": {},
   "source": [
    "## 3. KINH NGHIỆM \n"
   ]
  },
  {
   "cell_type": "markdown",
   "metadata": {},
   "source": [
    "### 3.0 Problem and Solution"
   ]
  },
  {
   "cell_type": "markdown",
   "metadata": {},
   "source": [
    "Em update tình hình về Task gen ảnh ạ. <anh @Truc Le Van  @Cuong Vu Cao >\n",
    "\n",
    "*** Yêu cầu 1 style => is oke. \n",
    "***Yêu cầu 2: Mô tả\n",
    "- Ảnh cần mô tả chính xác được cụm từ, người học nhìn vào có thể đoán ra được\". \n",
    "\n",
    "#### Vấn đề 1: Có 1 số cụm \"khoai\" mà GPT4o gen idea vẫn chưa ổn, trong quá trình gen em với a Long phải tự \"input idea\" ảnh khá nhiều. \n",
    "\n",
    "Chẳng hạn 1 số cụm như: \n",
    "- She has been learning English for over ten years.\n",
    "- He has been learning English for less than a year.\n",
    "- Her greatest weakness is lack of flexibility.\n",
    "- Her greatest weakness is lack of English skills.\n",
    "- He is looking for opportunities to learn new things.\n",
    "- She is looking for good benefit packages.\n",
    "- She is looking for opportunities to develop himself.\n",
    "\n",
    "\n",
    "* Về ngắn hạn thì em với a Long đang \n",
    "1. Là đưa idea bằng tay\n",
    "2. Là update Prompt gpt4o để idea gen ảnh nó ra chính xác hơn. \n",
    "3. \n",
    "4. \n",
    "...\n",
    "\n",
    "\n",
    "\n",
    "#### Vấn đề 2 [prompting]: Thâm chí ĐƯA IDEA CHUẨN => Model vẫn ko thể gen được như ý sau 7*7=49 lần. \n",
    "\n",
    "```\n",
    "commercial illustration, flat illustration, animation still, corporate animation style, wikihow illustration, quality illustration, 2d animation, professional illustration, cartoon still, digital 2d animation, cg animation, animated still, illustrations, cartoon illustration, high quality, color block, 4k, simple detail, simple background, (flat illustration:1.2), no lines, (vector illustration:1.3), adobe illustration, a woman selling souvenirs on the side of the road, standing in front of her stall with a sign (\"SOUVENIRS\":1.7) store, focus on the seller and detailed souvenirs on the table, miniature landmarks, keychains, postcards, handmade crafts, small figurines, souvenirs, jewelry, bracelets and necklaces, dozens of gemstone necklaces, the seller smiling and engaging with customers, a scenic background with trees and a clear sky, (simple color:1.4), (flat style:1.4),(flat illustration style:1.4), <lora:Flat_Corporate_Style:1>, <lora:Fresh Ideas@pixar style_SDXL.safetensors:0.7>, <lora:Flat style:1.4> Flat style\n",
    "```"
   ]
  },
  {
   "cell_type": "markdown",
   "metadata": {},
   "source": []
  },
  {
   "cell_type": "markdown",
   "metadata": {},
   "source": [
    "\n",
    "### 3.1 Các STEP GEN CÁC ẢNH KHÓ, BÍ IDEA\n"
   ]
  },
  {
   "cell_type": "markdown",
   "metadata": {},
   "source": [
    "\n",
    "1. Gen các ảnh mẫu để xem luồng. \n",
    "2. Nhìn xem: GEN CÁC ẢNH 1 XÀI N LẦN (quan sát chung xem các cụm có điểm gì chung)\n",
    "3. Tăng tốc bằng gen hàng loạt (có 1 số cụm khó xem gen được không)\n",
    "4. XỬ LÝ RIÊNG CÁC CỤM KHÓ: \n",
    "- Step 1: Lấy ý tưởng (từ các ảnh trên mạng nhờ gpt gen thêm/bản thân có/gpt gen) \n",
    "- Step 2: Gen image mẫu xem vừa ý chưa\n",
    "- Step 3: lấy prompt của image mẫu đó. \n",
    "    - Chú ý: When style cố định  thì chỉ cần: ***Subject, features, backgrounds, addition detail***\n",
    "```\n",
    "A man with a thoughtful expression, looking through books or a laptop, symbolizing his search for opportunities to learn new things. There is a thought bubble above his head with the words 'learn new things' inside. He is in a cozy room with bookshelves and a comfortable chair, creating a focused and intellectual atmosphere.\n",
    "```\n",
    "- Step 4: Đưa prompt vào Template \n",
    "\n",
    "\n"
   ]
  },
  {
   "cell_type": "markdown",
   "metadata": {},
   "source": [
    "#### Examples: "
   ]
  },
  {
   "cell_type": "markdown",
   "metadata": {},
   "source": [
    "Ví dụ:\n",
    "\n",
    "1. Để phóng to hoặc tập trung vào một nhân vật hoặc vật thể cụ thể:\n",
    "```\n",
    "1.1 Sử dụng các từ khóa như:\n",
    "   - \"closeup of [đối tượng]\"\n",
    "   - \"zoom in on [đối tượng]\"\n",
    "   - \"[đối tượng] in focus\"\n",
    "   - \"detailed view of [đối tượng]\"\n",
    "\n",
    "1.2. Kết hợp với trọng số: \"(closeup of young woman:1.5)\"\n",
    "1.3. Sử dụng từ khóa nhấn mạnh:\n",
    "   Thêm các từ như \"focus on\", \"emphasize\", \"highlight\", \"closeup of\" trước chi tiết bạn muốn làm nổi bật.\n",
    "1.4. Mô tả chi tiết hơn về đối tượng đó:\n",
    "   Càng mô tả chi tiết, mô hình càng có xu hướng tập trung vào đối tượng đó.\n",
    "1.5. Chỉ định vị trí:\n",
    "   \"young woman in the center\", \"young woman in the foreground\"\n",
    "```\n",
    "\n",
    "Example: \n",
    "- Prompt to focus and zoom in, and làm mờ: \n",
    "```\n",
    "In the background, 2-3 colleagues are sitting and working at their desks, but they are more subdued and less detailed to keep the focus on the main woman. \n",
    "```\n",
    "```\n",
    "when focus focus on man and bubble thinking or focus on the office environment, \n",
    "```\n",
    "```\n",
    "commercial illustration, flat illustration, animation still, corporate animation style, wikihow illustration, quality illustration, 2d animation, 2 d animation, professional illustration, cartoon still, digital 2d animation, cg animation, animated still, illustrations, cartoon illustration, high quality, color block, 4k, simple detail, simple background, (flat illustration:1.2), no lines, (vector illustration:1.3), adobe illustration, A professional illustration featuring (a young women:1.5), zoom in on young women, women working with his team to solve a problem. Around them, there are charts and graphs on a whiteboard. Above his head, there is a thinking bubble with the words ('BEST SOLUTION':1.5). The background is detailed, featuring desks with computers, and a large window with a cityscape view.(simple color:1.4), (flat style:1.4),(flat illustration style:1.4), \n",
    "```\n",
    "\n",
    "\n",
    "\n",
    "\n",
    "2. Prompt chữ về suy nghĩ và về tên biển: \n",
    "```\n",
    "a thought bubble above his head with the words 'learn new things' inside - in her head there is a thinking bubble that \"1 year 6 months\"\n",
    "```\n",
    "```\n",
    "a sign that says \"Store\" \n",
    "standing in front of his stall with a sign that reads \"Souvenirs\",  with a sign that reads \"Souvenirs\",\n",
    "```\n",
    "3. Prompt mô tả chi tiết gì đó \n",
    "\n",
    "- Prompt về detailed souvenirs\n",
    "```\n",
    "commercial illustration, flat illustration, animation still, corporate animation style, wikihow illustration, quality illustration, 2d animation, professional illustration, cartoon still, digital 2d animation, cg animation, animated still, illustrations, cartoon illustration, high quality, color block, 4k, simple detail, simple background, (flat illustration:1.2), no lines, (vector illustration:1.3), adobe illustration, a man selling souvenirs on the beach, standing in front of his stall with a sign that reads \"Souvenirs\", focus on the seller and detailed souvenirs on the table, miniature landmarks, keychains, postcards, handmade crafts, small figurines, souvenirs, jewelry, bracelets and necklaces, dozens of gemstone necklaces, the seller smiling and engaging with beachgoers, a scenic background with sand, ocean waves, and a clear sky, (simple color:1.4), (flat style:1.4),(flat illustration style:1.4), <lora:Flat_Corporate_Style:1>, <lora:Fresh Ideas@pixar style_SDXL.safetensors:0.7>, <lora:Flat style:1.4> Flat style\n",
    "```\n",
    "\n",
    "- Prompt về detailed office background: \n",
    "```\n",
    "detailed office background, featuring desks with computers, office chairs, potted plants, bookshelves, and a large window with a cityscape view, simple and minimalist scene, focus on the office environment, <lora:Flat_Corporate_Style:1>, <lora:Fresh Ideas@pixar style_SDXL.safetensors:0.7>, <lora:Flat style:1.4> Flat style\n",
    "```\n",
    "\n",
    "4. Ngoại lệ: Prompt siêu gọn mà hiệu quả - thậm chí no style: \n",
    "```\n",
    "The young man is reading a book titled (\"ENGLISH\":1.45), in his head there is a thinking bubble that \"<< 1 year\"\n",
    "```\n"
   ]
  },
  {
   "cell_type": "markdown",
   "metadata": {},
   "source": [
    "#### 3.2 Prompt đã chuẩn chi tiết các thứ mà vẫn KO WORK  => UPDATE MODEL "
   ]
  },
  {
   "cell_type": "markdown",
   "metadata": {},
   "source": [
    "Báo cáo tiến độ: \n",
    "\n",
    "<để chỉnh về style cũ thì cần thêm thời gian> anh ạ\n",
    "Dạ vâng ạ. Cùng 1 prompt thì model mới cho ảnh \"ĐÚNG VỚI CỤM TỪ HƠN\" ạ (trong khi model cũ cùng prompt đó lại ra ko như ý muốn)\n",
    "- Chẳng hạn: model mới chỉ cần cụm \"No dogs allowed\" là coi như xong luôn ko cần style s tủng gì cả \n",
    "- Chẳng hạn: cùng 1 prompt \n",
    "```\n",
    "a woman selling souvenirs on the side of the road, standing in front of her stall with a sign that reads \"Souvenirs\", focus on the seller and detailed souvenirs on the table, miniature landmarks, keychains, postcards, handmade crafts, small figurines, souvenirs, jewelry, bracelets and necklaces, dozens of gemstone necklaces, the seller smiling and engaging with customers, a scenic background with trees and a clear sky, \n",
    "```\n",
    "\n",
    "model cũ gen mãi ko như ý, model mới gen được luôn. "
   ]
  },
  {
   "cell_type": "markdown",
   "metadata": {},
   "source": [
    "Muốn tạo workflow 3: \n",
    "- IPAdapter: sử dụng các module IPAdapter cho việc chuyển đổi phong cách và xử lý hình ảnh, của workflow 1\n",
    "- Tải mô hình: sử dụng UNETLoader và VAELoader của workflow 2\n",
    "- Xử lý hình ảnh: tập trung vào VAE và cài đặt sampler tùy chỉnh của workflow2\n",
    "- Hướng dẫn: sử dụng FluxGuidance của workflow 2\n",
    "- Mã hóa văn bản CLIP: bao gồm DualCLIPLoader để tải hai mô hình CLIP như của workflow 2 \n",
    "-----------\n",
    "iNSTRUCTION \n",
    "1. KIỂM TRA LẠI CÁC NODE VÀ \n",
    "2. Nối các node với nhau đi "
   ]
  }
 ],
 "metadata": {
  "language_info": {
   "name": "python"
  }
 },
 "nbformat": 4,
 "nbformat_minor": 2
}
