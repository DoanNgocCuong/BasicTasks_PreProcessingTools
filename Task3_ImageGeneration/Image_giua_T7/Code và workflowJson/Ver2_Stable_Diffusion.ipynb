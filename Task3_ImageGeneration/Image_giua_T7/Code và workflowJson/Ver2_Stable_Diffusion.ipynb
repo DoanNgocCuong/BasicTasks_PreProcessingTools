{
 "cells": [
  {
   "cell_type": "markdown",
   "metadata": {},
   "source": [
    "Stable Diffusion\n",
    "- very simple background, simple and clean style, flat design, pastel color\n",
    "-     he live with young boy and 2 old parents about 55 years old, \n",
    "A flat design illustration, emphasize simple shapes, light colors, and minimal details, lacking realistic depth and shading.\n",
    " Close shot, high quality, masterpiece, detailed face, 4k, flat style, empty, basic background, simple background.\n",
    "Increase the brightness and make the colors more vibrant to create a cheerful and welcoming atmosphere\n"
   ]
  },
  {
   "cell_type": "markdown",
   "metadata": {},
   "source": [
    "# About Kiến thức "
   ]
  },
  {
   "cell_type": "markdown",
   "metadata": {},
   "source": [
    "### ComfyUI? \n"
   ]
  },
  {
   "cell_type": "markdown",
   "metadata": {},
   "source": [
    "\n",
    "ComfyUI is a powerful, modular, and customizable UI designed for Stable Diffusion. It provides a graph/nodes interface that allows users to create complex workflows for AI-based image generation and manipulation. Here are some of its key features and capabilities:\n",
    "\n",
    "1. **Node-Based Interface**: ComfyUI uses a node-based interface that allows users to build and customize their workflows visually. This interface makes it easy to connect various components and processes, enabling intricate and tailored AI model operations【6†source】【10†source】.\n",
    "\n",
    "2. **Preloaded and Custom Models**: It comes with over 200 preloaded models and nodes. Users also have the freedom to upload custom models and nodes, expanding the possibilities for creating unique workflows【7†source】【9†source】.\n",
    "\n",
    "3. **Depth Estimation and 3D Effects**: ComfyUI includes advanced features like the DepthAnythingV2 model, which provides highly accurate depth estimation from images. This is useful for generating depth maps that add realism and 3D effects to digital artwork【7†source】.\n",
    "\n",
    "4. **Vision Language Models (VLMs)**: The platform integrates Vision Language Models, enabling functionalities such as image captioning, automatic prompt generation, and even image-to-music conversion. These models help in creating structured outputs and generating creative content based on user inputs【9†source】.\n",
    "\n",
    "5. **Control and Customization**: With nodes like ControlLoraSave, users can create and manage Control LoRA models, allowing fine-tuning of AI models to achieve specific artistic effects. This is particularly useful for AI artists who need precise control over their generated content【10†source】.\n",
    "\n",
    "6. **Scalability and Deployment**: ComfyUI can be deployed on cloud platforms like AWS, where it supports scalable and efficient operations. This makes it suitable for large projects and real-time applications【8†source】.\n",
    "\n",
    "7. **Private Workspace and Support**: Users have access to a private workspace with up to 200GB of storage, and the platform offers dedicated support to help with troubleshooting and optimizing workflows【9†source】.\n",
    "\n",
    "These features make ComfyUI a versatile tool for both novice users and experienced AI artists, providing robust capabilities for image processing, model customization, and creative content generation."
   ]
  },
  {
   "cell_type": "markdown",
   "metadata": {},
   "source": [
    "1. Style Transfer in SD: https://youtu.be/hqj-NwhuAWQ?feature=shared\n",
    "2. Copy Image in SD: https://youtu.be/fDb5I5OYvao?feature=shared\n",
    "3. Copy how to PROMPT SD: https://stablediffusionweb.com/prompts và https://civitai.com và  - test onl: https://stabledifffusion.com/webui \n",
    "\n",
    "\n",
    "\n",
    "https://stable-diffusion-art.com/prompt-guide/ and https://stable-diffusion-art.com/how-to-come-up-with-good-prompts-for-ai-image-generation/#Some_good_keywords_for_you\n",
    "```\n",
    "1. Subject - Features - Background\n",
    "2. Medium (/Type/category of artwork): Ultra realistic illustration (Drawings that are very realistic. Good to use with people.), concept art (Illustration style, 2D.), Digital painting(Digital art style), Digital, Digital Minimalist Illustration\n",
    "3. Style: Modernist(vibrant color, high contrast), pastel color, \n",
    "4. Art-sharing website, Artist: artstation(website Modern illustration, fantasy)\n",
    "5. Resolution: unreal engine\n",
    "6. Additional details\n",
    "7. Color: iridescent gold, pastel color (Màu sắc nhẹ nhàng), vibrant color (Màu sắc rực rỡ,), Soft color\n",
    "8. Lighting: cinematic lighting\n",
    "```\n",
    "\n",
    "DALL - E - 3: \n",
    "```\n",
    "1. Type: Digital Minimalist Illustration - Clean Lines and Shapes - Flat Design - Soft Shading.\n",
    "6. Style: clean and simple style, flat design, pastel color\n",
    "5. Mood/Color: Use only 3-4 pastel colors, create a warm and friendly atmosphere with a well-balanced contrast to highlight {context}.\n",
    "\n",
    "2. Subject: Từ step 1 => 'Conceptualize the Image'.\n",
    "3. Features: Focused on {context} with the following elements:\n",
    "- Characters: Facial expressions and positions that perfectly match {context}.\n",
    "4. Setting: Setting: A plain background with no patterns, only include two small elements surrounding the characters. \n",
    "\n",
    "7. Emphasis: Highlight context {context} as the image's main focus. \n",
    "8. Note: Do not include any words or text in the image. \n",
    "```\n",
    "\n",
    "\n",
    "\n",
    "- Image to prompt: https://imagetoprompt.com/tools/i2p/88bd28d0-f103-4a76-9e7b-3c75ddb18166\n",
    "- Tìm checkpoint model and LORA (model phụ) tại: https://civitai.com/models/536328/fresh-ideas-illustration-no-8sdxl\n",
    "- Rất nhiều tools về AI: https://easywithai.com/ai-image-generators/\n",
    "- Tool AI đã xài lắp ảnh anh Trúc: https://clipdrop.co/\n",
    "- Tool đổi nền: https://www.fotor.com/vi/features/background-remover/upload\n",
    "- Tool RE-IMAGE: https://clipdrop.co/reimagine"
   ]
  },
  {
   "cell_type": "markdown",
   "metadata": {},
   "source": [
    "Some background: \n",
    "- https://civitai.com/models/176572/3ddianshang\n",
    "- https://civitai.com/posts/1434885\n",
    "\n",
    "https://youtu.be/fDb5I5OYvao?feature=shared\n",
    "\n",
    "Visual Style Prompting (Kết hợp Image với 1 phông nền): https://github.com/naver-ai/Visual-Style-Prompting"
   ]
  },
  {
   "cell_type": "markdown",
   "metadata": {},
   "source": [
    "### ComfyUI"
   ]
  },
  {
   "cell_type": "markdown",
   "metadata": {},
   "source": [
    "1. https://github.com/comfyanonymous/ComfyUI\n",
    "\n",
    "2. https://civitai.com/models/536328/fresh-ideas-illustration-no-8sdxl\n",
    "\n",
    "3. Video https://www.youtube.com/watch?v=jqW1ZskTLhI\n",
    "\n",
    "\n",
    "model: checkpoints, text to image, \n",
    "    - 1 model, 1 Lora, \n",
    "\n",
    "- Model: LORA, ... - model tranfer image down form https://easywithai.com/stable-diffusion-ui/comfyui/"
   ]
  },
  {
   "cell_type": "markdown",
   "metadata": {},
   "source": [
    "1. https://huggingface.co/tasks =>  https://huggingface.co/tasks/image-to-text  and    https://huggingface.co/Salesforce/blip-image-captioning-large\n",
    "2. https://github.com/AUTOMATIC1111/stable-diffusion-webui\n",
    "\n"
   ]
  },
  {
   "cell_type": "markdown",
   "metadata": {},
   "source": [
    "Down stable diffusion \n",
    "\n",
    "- https://stable-diffusion-art.com/install-windows/\n",
    "\n",
    "https://youtu.be/fD8xW7PiqbA?feature=shared\n",
    "\n",
    "https://civitai.com/models/536328/fresh-ideas-illustration-no-8sdxl\n",
    "\n",
    "The \"Fresh Ideas Illustration No. 8_SDXL\" model on Civitai is a LoRA (Low-Rank Adaptation) model designed to generate high-quality 3D illustrations, specifically optimized for the SDXL 1.0 base model. This model is highly rated by users, with positive feedback highlighting its ability to bring creative visions to life in a detailed and vibrant style, akin to Pixar’s 3D renderings.\n",
    "\n",
    "This model can be used to create detailed and high-resolution illustrations, making it suitable for producing official art or wallpapers with a focus on intricate details and high visual quality. The specific \"trigger words\" for this model include \"Illustration No. 8,\" which helps in generating consistent results according to the desired style.\n",
    "\n",
    "You can find more details and download the model from the [Civitai website](https://civitai.com/models/536328/fresh-ideas-illustration-no-8sdxl)【26†source】【27†source】【28†source】.\n",
    "\n",
    "\n",
    "maintaining stylistic consistency across generated images​ \n",
    "\n",
    " Extract Image Styles\n",
    "\n",
    " LORA  là những model nhở,,... \n",
    "-> Ví dụ: anime with model checkpoints: SD1.5 - with EYE-LORA\n",
    "\n",
    "\n",
    "New style: 'A man joyfully riding a bicycle on a path surrounded by nature. He has a beard and is wearing a green T-shirt and black pants. The background features rolling hills, tall trees, and a clear sky with a few clouds and birds flying. The overall scene is bright and cheerful, depicting a serene and pleasant outdoor activity.'\n",
    "\n",
    "\n",
    "```\n",
    "<lora:Fresh Ideas@pixar style_SDXL.safetensors:0.7>, <lora:Flat_Corporate_Style-000008:0.6>\n",
    "```"
   ]
  },
  {
   "cell_type": "markdown",
   "metadata": {},
   "source": [
    "Gen image: https://huggingface.co/spaces/Kwai-Kolors/Kolors"
   ]
  },
  {
   "cell_type": "markdown",
   "metadata": {},
   "source": [
    "\n",
    "1. Sử dụng các checkpoint mô hình khác nhau: Civitai cung cấp nhiều mô hình đã được tinh chỉnh chuyên biệt cho các phong cách khác nhau. Bạn có thể tải chúng vào ComfyUI.\n",
    "\n",
    "2. Điều chỉnh prompt: Sử dụng các từ khóa liên quan đến phong cách cụ thể trong prompt của bạn.\n",
    "\n",
    "3. Sử dụng LoRA (Low-Rank Adaptation) hoặc Textual Inversion: Đây là các kỹ thuật để thêm phong cách hoặc khái niệm mới, có sẵn trên Civitai.\n",
    "\n",
    "4. Thay đổi phương pháp và tham số lấy mẫu: Các bộ lấy mẫu khác nhau có thể tạo ra phong cách khác nhau.\n",
    "\n",
    "5. Sử dụng img2img hoặc inpainting: Bắt đầu với một hình ảnh cơ bản và sửa đổi nó để đạt được các phong cách khác nhau.\n",
    "\n",
    "6. Triển khai controlnet: Điều này cho phép kiểm soát chính xác hơn đối với phong cách đầu ra.\n",
    "\n",
    "7. Thử nghiệm với các kết hợp nút khác nhau trong ComfyUI để tạo quy trình làm việc độc đáo cho các phong cách khác nhau.\n"
   ]
  },
  {
   "cell_type": "markdown",
   "metadata": {},
   "source": [
    "Để tạo ra ảnh với phong cách tương tự như ảnh mẫu bạn đã cung cấp, bạn sẽ cần kết hợp một số kỹ thuật và có thể cần thử nghiệm nhiều lần. Tuy nhiên, dưới đây là một số bước cụ thể để giúp bạn bắt đầu:\n",
    "\n",
    "1. Sử dụng checkpoint phù hợp:\n",
    "   - Tìm kiếm trên Civitai các mô hình được đào tạo cho phong cách hoạt hình/minh họa đơn giản.\n",
    "   - Các từ khóa tìm kiếm có thể bao gồm: \"anime\", \"illustration\", \"cartoon\", \"flat style\".\n",
    "\n",
    "2. Điều chỉnh prompt:\n",
    "   - Mô tả chi tiết: \"2D illustration, flat style, simple background, two people in aprons, man and woman, kitchen or cafe setting, warm colors, clean lines\"\n",
    "   - Thêm các từ khóa phong cách: \"vector art\", \"minimalist\", \"pastel colors\"\n",
    "\n",
    "3. Sử dụng LoRA:\n",
    "   - Tìm và áp dụng LoRA cho phong cách minh họa đơn giản hoặc hoạt hình 2D trên Civitai.\n",
    "\n",
    "4. Thiết lập img2img:\n",
    "   - Sử dụng ảnh mẫu làm input cho quá trình img2img.\n",
    "   - Điều chỉnh strength (độ mạnh) để giữ lại cấu trúc của ảnh gốc nhưng cho phép AI tạo lại theo phong cách mới.\n",
    "\n",
    "5. Áp dụng Controlnet:\n",
    "   - Sử dụng Controlnet với mode \"canny edge\" hoặc \"lineart\" để duy trì cấu trúc và đường nét của ảnh gốc.\n",
    "\n",
    "6. Điều chỉnh tham số sampling:\n",
    "   - Thử nghiệm với các sampler khác nhau như Euler a, DPM++ 2M Karras.\n",
    "   - Điều chỉnh số bước (steps) và CFG scale để tinh chỉnh kết quả.\n",
    "\n",
    "7. Tinh chỉnh trong ComfyUI:\n",
    "   - Tạo một workflow kết hợp các node cho img2img, Controlnet, và LoRA.\n",
    "   - Thêm node điều chỉnh màu sắc để phù hợp với bảng màu của ảnh mẫu.\n",
    "\n",
    "Mặc dù có hướng dẫn cụ thể, bạn vẫn cần thử nghiệm để tìm ra sự kết hợp tối ưu. Mỗi lần thử, hãy điều chỉnh một vài tham số và so sánh kết quả với ảnh mẫu. Quá trình này đòi hỏi sự kiên nhẫn, nhưng sẽ giúp bạn hiểu rõ hơn cách các tham số ảnh hưởng đến kết quả cuối cùng."
   ]
  },
  {
   "cell_type": "markdown",
   "metadata": {},
   "source": [
    "https://discourse.kaikun.io/t/from-zero-to-hero-p29-chinh-sua-loi-tay-do-anh-tao-tu-ai/1717"
   ]
  },
  {
   "cell_type": "markdown",
   "metadata": {},
   "source": [
    "Để tạo ra ảnh với phong cách tương tự như ảnh mẫu bạn đã cung cấp, bạn sẽ cần kết hợp một số kỹ thuật và có thể cần thử nghiệm nhiều lần. Tuy nhiên, dưới đây là một số bước cụ thể để giúp bạn bắt đầu:\n",
    "\n",
    "1. Sử dụng checkpoint phù hợp:\n",
    "   - Tìm kiếm trên Civitai các mô hình được đào tạo cho phong cách hoạt hình/minh họa đơn giản.\n",
    "   - Các từ khóa tìm kiếm có thể bao gồm: \"anime\", \"illustration\", \"cartoon\", \"flat style\".\n",
    "\n",
    "2. Điều chỉnh prompt:\n",
    "   - Mô tả chi tiết: \"2D illustration, flat style, simple background, two people in aprons, man and woman, kitchen or cafe setting, warm colors, clean lines\"\n",
    "   - Thêm các từ khóa phong cách: \"vector art\", \"minimalist\", \"pastel colors\"\n",
    "\n",
    "3. Sử dụng LoRA:\n",
    "   - Tìm và áp dụng LoRA cho phong cách minh họa đơn giản hoặc hoạt hình 2D trên Civitai.\n",
    "\n",
    "4. Thiết lập img2img:\n",
    "   - Sử dụng ảnh mẫu làm input cho quá trình img2img.\n",
    "   - Điều chỉnh strength (độ mạnh) để giữ lại cấu trúc của ảnh gốc nhưng cho phép AI tạo lại theo phong cách mới.\n",
    "\n",
    "5. Áp dụng Controlnet:\n",
    "   - Sử dụng Controlnet với mode \"canny edge\" hoặc \"lineart\" để duy trì cấu trúc và đường nét của ảnh gốc.\n",
    "\n",
    "6. Điều chỉnh tham số sampling:\n",
    "   - Thử nghiệm với các sampler khác nhau như Euler a, DPM++ 2M Karras.\n",
    "   - Điều chỉnh số bước (steps) và CFG scale để tinh chỉnh kết quả.\n",
    "\n",
    "7. Tinh chỉnh trong ComfyUI:\n",
    "   - Tạo một workflow kết hợp các node cho img2img, Controlnet, và LoRA.\n",
    "   - Thêm node điều chỉnh màu sắc để phù hợp với bảng màu của ảnh mẫu.\n",
    "\n",
    "Mặc dù có hướng dẫn cụ thể, bạn vẫn cần thử nghiệm để tìm ra sự kết hợp tối ưu. Mỗi lần thử, hãy điều chỉnh một vài tham số và so sánh kết quả với ảnh mẫu. Quá trình này đòi hỏi sự kiên nhẫn, nhưng sẽ giúp bạn hiểu rõ hơn cách các tham số ảnh hưởng đến kết quả cuối cùng."
   ]
  }
 ],
 "metadata": {
  "language_info": {
   "name": "python"
  }
 },
 "nbformat": 4,
 "nbformat_minor": 2
}
