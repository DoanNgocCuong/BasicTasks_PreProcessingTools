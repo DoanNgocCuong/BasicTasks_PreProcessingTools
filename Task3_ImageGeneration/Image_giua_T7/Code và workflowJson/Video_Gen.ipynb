{
 "cells": [
  {
   "cell_type": "markdown",
   "metadata": {},
   "source": [
    "Self Research to: \n",
    "- Input:  10 nhân vật - 10 images. + \"Bé Na đứng hát ...\"\n",
    "- Output: Web - ấn 1 nút - trả về video.\""
   ]
  },
  {
   "cell_type": "markdown",
   "metadata": {},
   "source": [
    "### Gen Image: \n",
    "- A cartoon character of a blue bird, standing and singing. The bird has vibrant blue feathers, a cute round face, big expressive eyes, and a small beak. It is standing on a small stage with a microphone in front, and the background is a simple, cheerful scene with musical notes floating around.\n",
    "\n",
    "-> `4xg29pW4Mr30fx2O`\n",
    "\n",
    "\n",
    "### Gen Context: \"Con chim xanh đang đứng hát\"\n",
    "\n",
    "\n",
    "- https://leonardo.ai/ai-video-generator/"
   ]
  },
  {
   "cell_type": "code",
   "execution_count": null,
   "metadata": {},
   "outputs": [],
   "source": []
  }
 ],
 "metadata": {
  "language_info": {
   "name": "python"
  }
 },
 "nbformat": 4,
 "nbformat_minor": 2
}
